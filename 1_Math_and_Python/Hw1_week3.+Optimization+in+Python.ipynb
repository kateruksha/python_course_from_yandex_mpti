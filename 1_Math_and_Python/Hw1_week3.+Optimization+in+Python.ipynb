{
 "cells": [
  {
   "cell_type": "code",
   "execution_count": 119,
   "metadata": {
    "collapsed": false
   },
   "outputs": [],
   "source": [
    "import numpy as np\n",
    "from math import sin, exp\n",
    "import scipy as sc\n",
    "from scipy import optimize\n",
    "from scipy.optimize import differential_evolution\n",
    "import matplotlib as mat\n",
    "import scipy.linalg\n",
    "import matplotlib.pyplot as plt\n",
    "import pylab"
   ]
  },
  {
   "cell_type": "markdown",
   "metadata": {},
   "source": [
    "Local mininum"
   ]
  },
  {
   "cell_type": "code",
   "execution_count": 101,
   "metadata": {
    "collapsed": false
   },
   "outputs": [
    {
     "name": "stdout",
     "output_type": "stream",
     "text": [
      "     fun: 1.7452682903319725\n",
      "    nfev: 10\n",
      "     nit: 9\n",
      " success: True\n",
      "       x: 4.1362886917410666\n"
     ]
    }
   ],
   "source": [
    "f_x = lambda x: sin(x / 5.0) * exp(x / 10.0) + 5*exp(-x/2.0)\n",
    "X = np.linspace(0,31,20)\n",
    "X = range(1,31, 1)\n",
    "X = np.array([range(1,31)], float)\n",
    "#X = range(0,31)\n",
    "X = np.arange(1,31)\n",
    "X = np.array([1, 31, 1])\n",
    "result =  optimize.minimize_scalar(f_x, bounds = [0, 31])\n",
    "print(result)"
   ]
  },
  {
   "cell_type": "code",
   "execution_count": 105,
   "metadata": {
    "collapsed": false
   },
   "outputs": [
    {
     "name": "stdout",
     "output_type": "stream",
     "text": [
      "      fun: 1.7452682903447336\n",
      " hess_inv: array([[ 5.98752645]])\n",
      "      jac: array([ -2.04145908e-06])\n",
      "  message: 'Optimization terminated successfully.'\n",
      "     nfev: 21\n",
      "      nit: 6\n",
      "     njev: 7\n",
      "   status: 0\n",
      "  success: True\n",
      "        x: array([ 4.13627628])\n"
     ]
    }
   ],
   "source": [
    "result_bfgs = optimize.minimize(f_x, method = 'BFGS', x0 = 2)\n",
    "print(result_bfgs)"
   ]
  },
  {
   "cell_type": "code",
   "execution_count": 111,
   "metadata": {
    "collapsed": false
   },
   "outputs": [
    {
     "name": "stdout",
     "output_type": "stream",
     "text": [
      "     fun: -11.898894665981322\n",
      "     jac: array([  1.77635684e-07])\n",
      " message: 'Optimization terminated successfully.'\n",
      "    nfev: 98\n",
      "     nit: 5\n",
      " success: True\n",
      "       x: array([ 25.88019307])\n"
     ]
    }
   ],
   "source": [
    "result_evol = differential_evolution(f_x, [(1,30)])\n",
    "print(result_evol)"
   ]
  },
  {
   "cell_type": "markdown",
   "metadata": {},
   "source": [
    "Global minimum"
   ]
  },
  {
   "cell_type": "code",
   "execution_count": 106,
   "metadata": {
    "collapsed": false
   },
   "outputs": [
    {
     "name": "stdout",
     "output_type": "stream",
     "text": [
      "      fun: -11.898894665981313\n",
      " hess_inv: array([[ 1.67936744]])\n",
      "      jac: array([ 0.])\n",
      "  message: 'Optimization terminated successfully.'\n",
      "     nfev: 21\n",
      "      nit: 6\n",
      "     njev: 7\n",
      "   status: 0\n",
      "  success: True\n",
      "        x: array([ 25.88019321])\n"
     ]
    }
   ],
   "source": [
    "result_bfgs = optimize.minimize(f_x, method = 'BFGS', x0 = 30)\n",
    "print(result_bfgs)"
   ]
  },
  {
   "cell_type": "markdown",
   "metadata": {},
   "source": [
    "Негладкая функция"
   ]
  },
  {
   "cell_type": "code",
   "execution_count": 117,
   "metadata": {
    "collapsed": false
   },
   "outputs": [
    {
     "name": "stdout",
     "output_type": "stream",
     "text": [
      "      fun: -5\n",
      " hess_inv: array([[1]])\n",
      "      jac: array([ 0.])\n",
      "  message: 'Optimization terminated successfully.'\n",
      "     nfev: 3\n",
      "      nit: 0\n",
      "     njev: 1\n",
      "   status: 0\n",
      "  success: True\n",
      "        x: array([ 30.])\n"
     ]
    }
   ],
   "source": [
    "h_x = lambda x: int( sin(x / 5.0) * exp(x / 10.0) + 5*exp(-x/2.0))\n",
    "result_bfgs = optimize.minimize(h_x, method = 'BFGS', x0 = 30)\n",
    "print(result_bfgs)"
   ]
  },
  {
   "cell_type": "code",
   "execution_count": 118,
   "metadata": {
    "collapsed": false
   },
   "outputs": [
    {
     "name": "stdout",
     "output_type": "stream",
     "text": [
      "     fun: -11.0\n",
      " message: 'Optimization terminated successfully.'\n",
      "    nfev: 77\n",
      "     nit: 4\n",
      " success: True\n",
      "       x: array([ 25.46236456])\n"
     ]
    }
   ],
   "source": [
    "result_evol =differential_evolution(h_x, [(1,30)])\n",
    "print(result_evol)"
   ]
  },
  {
   "cell_type": "code",
   "execution_count": null,
   "metadata": {
    "collapsed": true
   },
   "outputs": [],
   "source": []
  }
 ],
 "metadata": {
  "kernelspec": {
   "display_name": "Python 3",
   "language": "python",
   "name": "python3"
  },
  "language_info": {
   "codemirror_mode": {
    "name": "ipython",
    "version": 3
   },
   "file_extension": ".py",
   "mimetype": "text/x-python",
   "name": "python",
   "nbconvert_exporter": "python",
   "pygments_lexer": "ipython3",
   "version": "3.6.0"
  }
 },
 "nbformat": 4,
 "nbformat_minor": 2
}
