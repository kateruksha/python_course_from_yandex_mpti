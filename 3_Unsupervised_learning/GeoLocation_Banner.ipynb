{
 "cells": [
  {
   "cell_type": "code",
   "execution_count": 24,
   "metadata": {},
   "outputs": [
    {
     "name": "stdout",
     "output_type": "stream",
     "text": [
      "<class 'pandas.core.frame.DataFrame'>\n",
      "RangeIndex: 1021966 entries, 0 to 1021965\n",
      "Data columns (total 6 columns):\n",
      "id            1021966 non-null int64\n",
      "user_id       1021966 non-null int64\n",
      "venue_id      1021966 non-null int64\n",
      "latitude      1021966 non-null object\n",
      "longitude     1021966 non-null object\n",
      "created_at    1021966 non-null object\n",
      "dtypes: int64(3), object(3)\n",
      "memory usage: 46.8+ MB\n",
      "None\n",
      "<class 'pandas.core.frame.DataFrame'>\n",
      "Int64Index: 396634 entries, 1 to 1021964\n",
      "Data columns (total 6 columns):\n",
      "id            396634 non-null int64\n",
      "user_id       396634 non-null int64\n",
      "venue_id      396634 non-null int64\n",
      "latitude      396634 non-null float64\n",
      "longitude     396634 non-null float64\n",
      "created_at    396634 non-null object\n",
      "dtypes: float64(2), int64(3), object(1)\n",
      "memory usage: 21.2+ MB\n",
      "None\n"
     ]
    }
   ],
   "source": [
    "import pandas as pd\n",
    "\n",
    "#создание DataFrame с помощью чтения данных из файла\n",
    "frame = pd.read_csv('checkins.dat', header=0, sep=',')\n",
    "print frame.info()\n",
    "frame.latitude=frame.latitude.str.strip()\n",
    "frame.longitude=frame.longitude.str.strip()\n",
    "frame = frame[frame.latitude!=\"\"]\n",
    "frame.latitude = frame.latitude.astype(float)\n",
    "frame.longitude = frame.longitude.astype(float)\n",
    "print frame.info()"
   ]
  },
  {
   "cell_type": "code",
   "execution_count": 25,
   "metadata": {},
   "outputs": [
    {
     "name": "stdout",
     "output_type": "stream",
     "text": [
      "(100000, 6)\n",
      "Index([u'id', u'user_id', u'venue_id', u'latitude', u'longitude',\n",
      "       u'created_at'],\n",
      "      dtype='object')\n"
     ]
    }
   ],
   "source": [
    "#отбираем 100000\n",
    "frame_temp = frame.iloc[:100000]\n",
    "print frame_temp.shape\n",
    "print frame_temp.columns"
   ]
  },
  {
   "cell_type": "code",
   "execution_count": 40,
   "metadata": {},
   "outputs": [
    {
     "name": "stdout",
     "output_type": "stream",
     "text": [
      "(100000,)\n",
      "(3229, 2)\n"
     ]
    }
   ],
   "source": [
    "#кластерный анализ\n",
    "from sklearn.cluster import MeanShift\n",
    "test_frame = frame_temp\n",
    "\n",
    "X = test_frame.loc[:, lambda df: ['latitude', 'longitude']]\n",
    "y = test_frame.loc[:,\"id\"]\n",
    "\n",
    "ms = MeanShift(bandwidth=0.1)\n",
    "ms.fit(X)\n",
    "labels = ms.labels_\n",
    "cluster_centers = ms.cluster_centers_\n",
    "print labels.shape\n",
    "print cluster_centers.shape"
   ]
  },
  {
   "cell_type": "code",
   "execution_count": 41,
   "metadata": {},
   "outputs": [
    {
     "name": "stdout",
     "output_type": "stream",
     "text": [
      "592\n"
     ]
    }
   ],
   "source": [
    "#подсчет объема кластеров и отбор больших (больше 15 элементов)\n",
    "import collections\n",
    "counter = collections.Counter(labels)\n",
    "result = filter(lambda x: x[1]>15, counter.items())\n",
    "labels_bigclusters = zip(*result)\n",
    "print len(labels_bigclusters[0])"
   ]
  },
  {
   "cell_type": "code",
   "execution_count": 42,
   "metadata": {},
   "outputs": [
    {
     "name": "stdout",
     "output_type": "stream",
     "text": [
      "(6, 4)\n"
     ]
    }
   ],
   "source": [
    "#загрузка городов из задания\n",
    "carivalFrame = pd.read_csv('carival.csv', header=0, sep=',')\n",
    "carivalOffice = carivalFrame.loc[:, lambda df: ['latitude', 'longitude']]\n",
    "print carival.shape"
   ]
  },
  {
   "cell_type": "code",
   "execution_count": 45,
   "metadata": {},
   "outputs": [
    {
     "name": "stdout",
     "output_type": "stream",
     "text": [
      "[[0, 16.143719990900713], [1, 6.1939591656013153], [2, 6.2942414627471628], [3, 17.598579819253398], [4, 5.77204797983301], [5, 13.424131381056705], [6, 6.378262487136821], [7, 8.8854260047572584], [8, 18.912201694843972], [9, 14.461227370022126], [10, 3.8345848685390518], [11, 0.31488379033627317], [12, 23.080862869316192], [13, 17.965990500096549], [14, 16.251596163078347], [15, 14.495236935243689], [16, 14.999911112795457], [17, 0.37868750125029754], [18, 1.3516553532143341], [19, 17.848302400837376]]\n",
      "[[413, 0.0078347581631091553], [375, 0.0093533161859922255], [410, 0.022674066158382036], [58, 0.050058294822787883], [51, 0.070847732427199731], [29, 0.13410903336184438], [166, 0.16740596425033946], [92, 0.18887596060185352], [87, 0.19577945647763628], [42, 0.21181053682436798], [285, 0.22223329073179071], [315, 0.27130075950667704], [119, 0.29497888680045692], [55, 0.30227011869246351], [27, 0.30473050307840693], [11, 0.31488379033627317], [32, 0.33881047025113181], [158, 0.34084565332206063], [17, 0.37868750125029754], [47, 0.38670622484272771]]\n",
      "index 413 - center [ -33.86063043  151.20477593] - dist 0.00783475816311 - power 28\n",
      "index 375 - center [ 52.37296399   4.89231722] - dist 0.00935331618599 - power 31\n",
      "index 410 - center [ 25.84567226 -80.3188906 ] - dist 0.0226740661584 - power 28\n",
      "index 58 - center [ 51.50299126  -0.12553729] - dist 0.0500582948228 - power 254\n",
      "index 51 - center [  33.80987796 -118.14892381] - dist 0.0708477324272 - power 281\n",
      "index 29 - center [ 25.78581242 -80.21793804] - dist 0.134109033362 - power 564\n",
      "index 166 - center [ 25.70534972 -80.28342874] - dist 0.16740596425 - power 80\n",
      "index 92 - center [ 26.01009825 -80.19999059] - dist 0.188875960602 - power 138\n",
      "index 87 - center [  33.88832534 -118.04892817] - dist 0.195779456478 - power 100\n",
      "index 42 - center [  33.87298601 -118.36209115] - dist 0.211810536824 - power 384\n",
      "index 285 - center [  33.97257482 -118.16837067] - dist 0.222233290732 - power 37\n",
      "index 315 - center [ 26.13884379 -80.33434684] - dist 0.271300759507 - power 38\n",
      "index 119 - center [  33.98393587 -118.00740497] - dist 0.2949788868 - power 74\n",
      "index 55 - center [ 26.12086266 -80.15890668] - dist 0.302270118692 - power 246\n",
      "index 27 - center [  33.81730643 -117.89124917] - dist 0.304730503078 - power 577\n",
      "index 11 - center [  34.06039755 -118.24870903] - dist 0.314883790336 - power 1081\n",
      "index 32 - center [  33.67430266 -117.85878927] - dist 0.338810470251 - power 449\n",
      "index 158 - center [ 26.20058464 -80.25071613] - dist 0.340845653322 - power 42\n",
      "index 17 - center [  34.03548695 -118.43899772] - dist 0.37868750125 - power 645\n",
      "index 47 - center [  34.13146015 -118.11801181] - dist 0.386706224843 - power 273\n"
     ]
    }
   ],
   "source": [
    "#ищем 20 кластерных центров наиболее близких к офисам\n",
    "result_dist = []\n",
    "countertmp = 0\n",
    "from numpy import linalg\n",
    "for tmp in cluster_centers:\n",
    "    if countertmp in labels_bigclusters[0]:\n",
    "        result_dist.append ([countertmp, min(linalg.norm(carivalOffice - tmp, axis=1))])  \n",
    "    countertmp += 1\n",
    "print result_dist[:20]\n",
    "result_dist = sorted(result_dist, key=lambda distance: distance[1])\n",
    "print result_dist[:20]\n",
    "for tmp in result_dist[:20]:\n",
    "    print \"index %s - center %s - dist %s - power %s\" % (tmp[0],cluster_centers[tmp[0]], tmp[1],labels_bigclusters[1][tmp[0]] )"
   ]
  },
  {
   "cell_type": "code",
   "execution_count": null,
   "metadata": {
    "collapsed": true
   },
   "outputs": [],
   "source": []
  }
 ],
 "metadata": {
  "kernelspec": {
   "display_name": "Python 2",
   "language": "python",
   "name": "python2"
  },
  "language_info": {
   "codemirror_mode": {
    "name": "ipython",
    "version": 2
   },
   "file_extension": ".py",
   "mimetype": "text/x-python",
   "name": "python",
   "nbconvert_exporter": "python",
   "pygments_lexer": "ipython2",
   "version": "2.7.13"
  }
 },
 "nbformat": 4,
 "nbformat_minor": 2
}
